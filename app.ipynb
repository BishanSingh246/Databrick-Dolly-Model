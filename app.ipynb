{
 "cells": [
  {
   "cell_type": "code",
   "execution_count": 0,
   "metadata": {
    "application/vnd.databricks.v1+cell": {
     "cellMetadata": {
      "byteLimit": 2048000,
      "rowLimit": 10000
     },
     "inputWidgets": {},
     "nuid": "cd63dd9d-1413-464f-9d86-65ad4e0f671c",
     "showTitle": false,
     "title": ""
    }
   },
   "outputs": [
    {
     "output_type": "stream",
     "name": "stdout",
     "output_type": "stream",
     "text": [
      "Python interpreter will be restarted.\nRequirement already satisfied: transformers[torch] in /local_disk0/.ephemeral_nfs/envs/pythonEnv-532807a2-10f5-4c26-a85b-bccc5a4209a9/lib/python3.9/site-packages (4.28.1)\nRequirement already satisfied: packaging>=20.0 in /databricks/python3/lib/python3.9/site-packages (from transformers[torch]) (21.3)\nRequirement already satisfied: pyyaml>=5.1 in /local_disk0/.ephemeral_nfs/envs/pythonEnv-532807a2-10f5-4c26-a85b-bccc5a4209a9/lib/python3.9/site-packages (from transformers[torch]) (6.0)\nRequirement already satisfied: huggingface-hub<1.0,>=0.11.0 in /local_disk0/.ephemeral_nfs/envs/pythonEnv-532807a2-10f5-4c26-a85b-bccc5a4209a9/lib/python3.9/site-packages (from transformers[torch]) (0.14.1)\nRequirement already satisfied: filelock in /usr/local/lib/python3.9/dist-packages (from transformers[torch]) (3.9.0)\nRequirement already satisfied: numpy>=1.17 in /databricks/python3/lib/python3.9/site-packages (from transformers[torch]) (1.21.5)\nRequirement already satisfied: regex!=2019.12.17 in /local_disk0/.ephemeral_nfs/envs/pythonEnv-532807a2-10f5-4c26-a85b-bccc5a4209a9/lib/python3.9/site-packages (from transformers[torch]) (2023.5.5)\nRequirement already satisfied: tokenizers!=0.11.3,<0.14,>=0.11.1 in /local_disk0/.ephemeral_nfs/envs/pythonEnv-532807a2-10f5-4c26-a85b-bccc5a4209a9/lib/python3.9/site-packages (from transformers[torch]) (0.13.3)\nRequirement already satisfied: tqdm>=4.27 in /local_disk0/.ephemeral_nfs/envs/pythonEnv-532807a2-10f5-4c26-a85b-bccc5a4209a9/lib/python3.9/site-packages (from transformers[torch]) (4.65.0)\nRequirement already satisfied: requests in /databricks/python3/lib/python3.9/site-packages (from transformers[torch]) (2.27.1)\nRequirement already satisfied: torch!=1.12.0,>=1.9 in /local_disk0/.ephemeral_nfs/envs/pythonEnv-532807a2-10f5-4c26-a85b-bccc5a4209a9/lib/python3.9/site-packages (from transformers[torch]) (2.0.1)\nRequirement already satisfied: typing-extensions>=3.7.4.3 in /databricks/python3/lib/python3.9/site-packages (from huggingface-hub<1.0,>=0.11.0->transformers[torch]) (4.1.1)\nRequirement already satisfied: fsspec in /local_disk0/.ephemeral_nfs/envs/pythonEnv-532807a2-10f5-4c26-a85b-bccc5a4209a9/lib/python3.9/site-packages (from huggingface-hub<1.0,>=0.11.0->transformers[torch]) (2023.5.0)\nRequirement already satisfied: pyparsing!=3.0.5,>=2.0.2 in /databricks/python3/lib/python3.9/site-packages (from packaging>=20.0->transformers[torch]) (3.0.4)\nRequirement already satisfied: nvidia-cuda-nvrtc-cu11==11.7.99 in /local_disk0/.ephemeral_nfs/envs/pythonEnv-532807a2-10f5-4c26-a85b-bccc5a4209a9/lib/python3.9/site-packages (from torch!=1.12.0,>=1.9->transformers[torch]) (11.7.99)\nRequirement already satisfied: jinja2 in /databricks/python3/lib/python3.9/site-packages (from torch!=1.12.0,>=1.9->transformers[torch]) (2.11.3)\nRequirement already satisfied: nvidia-curand-cu11==10.2.10.91 in /local_disk0/.ephemeral_nfs/envs/pythonEnv-532807a2-10f5-4c26-a85b-bccc5a4209a9/lib/python3.9/site-packages (from torch!=1.12.0,>=1.9->transformers[torch]) (10.2.10.91)\nRequirement already satisfied: nvidia-cuda-runtime-cu11==11.7.99 in /local_disk0/.ephemeral_nfs/envs/pythonEnv-532807a2-10f5-4c26-a85b-bccc5a4209a9/lib/python3.9/site-packages (from torch!=1.12.0,>=1.9->transformers[torch]) (11.7.99)\nRequirement already satisfied: nvidia-cuda-cupti-cu11==11.7.101 in /local_disk0/.ephemeral_nfs/envs/pythonEnv-532807a2-10f5-4c26-a85b-bccc5a4209a9/lib/python3.9/site-packages (from torch!=1.12.0,>=1.9->transformers[torch]) (11.7.101)\nRequirement already satisfied: nvidia-cusparse-cu11==11.7.4.91 in /local_disk0/.ephemeral_nfs/envs/pythonEnv-532807a2-10f5-4c26-a85b-bccc5a4209a9/lib/python3.9/site-packages (from torch!=1.12.0,>=1.9->transformers[torch]) (11.7.4.91)\nRequirement already satisfied: nvidia-cublas-cu11==11.10.3.66 in /local_disk0/.ephemeral_nfs/envs/pythonEnv-532807a2-10f5-4c26-a85b-bccc5a4209a9/lib/python3.9/site-packages (from torch!=1.12.0,>=1.9->transformers[torch]) (11.10.3.66)\nRequirement already satisfied: nvidia-cusolver-cu11==11.4.0.1 in /local_disk0/.ephemeral_nfs/envs/pythonEnv-532807a2-10f5-4c26-a85b-bccc5a4209a9/lib/python3.9/site-packages (from torch!=1.12.0,>=1.9->transformers[torch]) (11.4.0.1)\nRequirement already satisfied: nvidia-nccl-cu11==2.14.3 in /local_disk0/.ephemeral_nfs/envs/pythonEnv-532807a2-10f5-4c26-a85b-bccc5a4209a9/lib/python3.9/site-packages (from torch!=1.12.0,>=1.9->transformers[torch]) (2.14.3)\nRequirement already satisfied: triton==2.0.0 in /local_disk0/.ephemeral_nfs/envs/pythonEnv-532807a2-10f5-4c26-a85b-bccc5a4209a9/lib/python3.9/site-packages (from torch!=1.12.0,>=1.9->transformers[torch]) (2.0.0)\nRequirement already satisfied: sympy in /local_disk0/.ephemeral_nfs/envs/pythonEnv-532807a2-10f5-4c26-a85b-bccc5a4209a9/lib/python3.9/site-packages (from torch!=1.12.0,>=1.9->transformers[torch]) (1.11.1)\nRequirement already satisfied: nvidia-nvtx-cu11==11.7.91 in /local_disk0/.ephemeral_nfs/envs/pythonEnv-532807a2-10f5-4c26-a85b-bccc5a4209a9/lib/python3.9/site-packages (from torch!=1.12.0,>=1.9->transformers[torch]) (11.7.91)\nRequirement already satisfied: nvidia-cufft-cu11==10.9.0.58 in /local_disk0/.ephemeral_nfs/envs/pythonEnv-532807a2-10f5-4c26-a85b-bccc5a4209a9/lib/python3.9/site-packages (from torch!=1.12.0,>=1.9->transformers[torch]) (10.9.0.58)\nRequirement already satisfied: networkx in /local_disk0/.ephemeral_nfs/envs/pythonEnv-532807a2-10f5-4c26-a85b-bccc5a4209a9/lib/python3.9/site-packages (from torch!=1.12.0,>=1.9->transformers[torch]) (3.1)\nRequirement already satisfied: nvidia-cudnn-cu11==8.5.0.96 in /local_disk0/.ephemeral_nfs/envs/pythonEnv-532807a2-10f5-4c26-a85b-bccc5a4209a9/lib/python3.9/site-packages (from torch!=1.12.0,>=1.9->transformers[torch]) (8.5.0.96)\nRequirement already satisfied: wheel in /databricks/python3/lib/python3.9/site-packages (from nvidia-cublas-cu11==11.10.3.66->torch!=1.12.0,>=1.9->transformers[torch]) (0.37.0)\nRequirement already satisfied: setuptools in /databricks/python3/lib/python3.9/site-packages (from nvidia-cublas-cu11==11.10.3.66->torch!=1.12.0,>=1.9->transformers[torch]) (61.2.0)\nRequirement already satisfied: lit in /local_disk0/.ephemeral_nfs/envs/pythonEnv-532807a2-10f5-4c26-a85b-bccc5a4209a9/lib/python3.9/site-packages (from triton==2.0.0->torch!=1.12.0,>=1.9->transformers[torch]) (16.0.3)\nRequirement already satisfied: cmake in /local_disk0/.ephemeral_nfs/envs/pythonEnv-532807a2-10f5-4c26-a85b-bccc5a4209a9/lib/python3.9/site-packages (from triton==2.0.0->torch!=1.12.0,>=1.9->transformers[torch]) (3.26.3)\nRequirement already satisfied: MarkupSafe>=0.23 in /databricks/python3/lib/python3.9/site-packages (from jinja2->torch!=1.12.0,>=1.9->transformers[torch]) (2.0.1)\nRequirement already satisfied: idna<4,>=2.5 in /databricks/python3/lib/python3.9/site-packages (from requests->transformers[torch]) (3.3)\nRequirement already satisfied: charset-normalizer~=2.0.0 in /databricks/python3/lib/python3.9/site-packages (from requests->transformers[torch]) (2.0.4)\nRequirement already satisfied: urllib3<1.27,>=1.21.1 in /databricks/python3/lib/python3.9/site-packages (from requests->transformers[torch]) (1.26.9)\nRequirement already satisfied: certifi>=2017.4.17 in /databricks/python3/lib/python3.9/site-packages (from requests->transformers[torch]) (2021.10.8)\nRequirement already satisfied: mpmath>=0.19 in /local_disk0/.ephemeral_nfs/envs/pythonEnv-532807a2-10f5-4c26-a85b-bccc5a4209a9/lib/python3.9/site-packages (from sympy->torch!=1.12.0,>=1.9->transformers[torch]) (1.3.0)\nPython interpreter will be restarted.\n"
     ]
    }
   ],
   "source": [
    "pip install 'transformers[torch]'"
   ]
  },
  {
   "cell_type": "code",
   "execution_count": 0,
   "metadata": {
    "application/vnd.databricks.v1+cell": {
     "cellMetadata": {
      "byteLimit": 2048000,
      "rowLimit": 10000
     },
     "inputWidgets": {},
     "nuid": "1ed7900b-0f43-4f95-980f-8ff12eee49a0",
     "showTitle": false,
     "title": ""
    }
   },
   "outputs": [],
   "source": [
    "from transformers import pipeline"
   ]
  },
  {
   "cell_type": "code",
   "execution_count": 0,
   "metadata": {
    "application/vnd.databricks.v1+cell": {
     "cellMetadata": {
      "byteLimit": 2048000,
      "rowLimit": 10000
     },
     "inputWidgets": {},
     "nuid": "85b69276-db1d-439e-aaa9-e638f3d1c24e",
     "showTitle": false,
     "title": ""
    }
   },
   "outputs": [],
   "source": [
    "data = \"\"\"\n",
    " Once upon a time, there was a small village nestled in the heart of a vast, green forest. The villagers were a simple, hardworking people who lived off the land and relied on each other for support. Life was peaceful and idyllic, until one day, a dark cloud descended upon the village. It all started when a mysterious stranger arrived in town. He was a tall, lanky man with a piercing gaze and a sly smile. No one knew where he came from or what he wanted, but he quickly made himself at home in the village. At first, the stranger seemed harmless enough. He would wander around the village, striking up conversations with anyone who would listen. He was always friendly and charming, and the villagers were drawn to him like moths to a flame. But as time went on, things started to change. People began to notice that their belongings were going missing. Food, tools, and even clothing would disappear without a trace. At first, they thought it was just the work of petty thieves, but then they realized that the stranger was always around when things went missing. The villagers confronted the stranger, but he simply laughed it off. \"I don't know what you're talking about,\" he said with a smirk. \"I'm just passing through. I would never steal from you.\" But the villagers knew better. They started to keep a closer eye on the stranger, and they soon discovered the truth. He was a master thief, and he had been stealing from them all along. The villagers were outraged, but they didn't know what to do. They were a peaceful people, and they didn't want to resort to violence. So they decided to hold a trial, with the stranger as the defendant. The trial lasted for hours, with both sides presenting their arguments. In the end, the villagers found the stranger guilty of theft. They decided to banish him from the village, never to return again. The stranger left without a word, but he left a lasting impression on the villagers. \"\"\"\n",
    "\n",
    "\n",
    "#  They realized that even in the most peaceful of places, there could be darkness lurking in the shadows. But they also learned that when they banded together, they could overcome anything. And so life went on in the small village in the heart of the forest. The villagers continued to live their simple, hardworking lives, but they never forgot the lesson they had learned. They remained vigilant, always keeping an eye out for the next stranger who might come their way."
   ]
  },
  {
   "cell_type": "code",
   "execution_count": 0,
   "metadata": {
    "application/vnd.databricks.v1+cell": {
     "cellMetadata": {
      "byteLimit": 2048000,
      "rowLimit": 10000
     },
     "inputWidgets": {},
     "nuid": "1141c22b-8abc-4d8e-aa6f-5077331b8603",
     "showTitle": true,
     "title": ""
    }
   },
   "outputs": [
    {
     "output_type": "stream",
     "name": "stderr",
     "output_type": "stream",
     "text": [
      "/local_disk0/.ephemeral_nfs/envs/pythonEnv-532807a2-10f5-4c26-a85b-bccc5a4209a9/lib/python3.9/site-packages/transformers/generation/utils.py:1219: UserWarning: You have modified the pretrained model configuration to control generation. This is a deprecated strategy to control generation and will be removed soon, in a future version. Please use a generation configuration file (see https://huggingface.co/docs/transformers/main_classes/text_generation)\n  warnings.warn(\n"
     ]
    },
    {
     "output_type": "stream",
     "name": "stdout",
     "output_type": "stream",
     "text": [
      "the stranger was a master thief, and he had been stealing from them all along . the villagers were outraged, but they didn't know what to do . they decided to hold a trial, with the stranger as the defendant .\n"
     ]
    }
   ],
   "source": [
    "summary = pipeline('summarization', model = \"t5-small\",tokenizer = \"t5-small\", num_beams=10)\n",
    "print(summary(f\"summarize:{data}\")[0][\"summary_text\"])"
   ]
  },
  {
   "cell_type": "code",
   "execution_count": 0,
   "metadata": {
    "application/vnd.databricks.v1+cell": {
     "cellMetadata": {
      "byteLimit": 2048000,
      "rowLimit": 10000
     },
     "inputWidgets": {},
     "nuid": "0d590a8d-1555-456b-a713-89252ac48ba6",
     "showTitle": false,
     "title": ""
    }
   },
   "outputs": [
    {
     "output_type": "stream",
     "name": "stdout",
     "output_type": "stream",
     "text": [
      "tall, lanky man with a piercing gaze and a sly smile\n"
     ]
    }
   ],
   "source": [
    "QA_input = {\n",
    "    'question': \"Who was the stranger that arrived in the village?\",\n",
    "    'context': data\n",
    "}\n",
    "model_na = \"deepset/roberta-base-squad2\"\n",
    "# model_na = \"bert-large-uncased-whole-word-masking\"\n",
    "question_Answering = pipeline('question-answering', model = model_na,tokenizer = model_na, num_beams=10)\n",
    "print(question_Answering(QA_input)['answer'])\n"
   ]
  }
 ],
 "metadata": {
  "application/vnd.databricks.v1+notebook": {
   "dashboards": [],
   "language": "python",
   "notebookMetadata": {
    "pythonIndentUnit": 4
   },
   "notebookName": "app 2",
   "notebookOrigID": 1765136683440608,
   "widgets": {}
  }
 },
 "nbformat": 4,
 "nbformat_minor": 0
}
